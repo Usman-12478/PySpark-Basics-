{
 "cells": [
  {
   "cell_type": "code",
   "execution_count": 1,
   "id": "5742d15d",
   "metadata": {
    "_cell_guid": "b1076dfc-b9ad-4769-8c92-a6c4dae69d19",
    "_uuid": "8f2839f25d086af736a60e9eeb907d3b93b6e0e5",
    "execution": {
     "iopub.execute_input": "2024-10-20T10:04:08.197808Z",
     "iopub.status.busy": "2024-10-20T10:04:08.197338Z",
     "iopub.status.idle": "2024-10-20T10:05:01.393057Z",
     "shell.execute_reply": "2024-10-20T10:05:01.391498Z"
    },
    "papermill": {
     "duration": 53.21827,
     "end_time": "2024-10-20T10:05:01.395940",
     "exception": false,
     "start_time": "2024-10-20T10:04:08.177670",
     "status": "completed"
    },
    "tags": []
   },
   "outputs": [
    {
     "name": "stdout",
     "output_type": "stream",
     "text": [
      "Collecting pyspark\r\n",
      "  Downloading pyspark-3.5.3.tar.gz (317.3 MB)\r\n",
      "\u001b[2K     \u001b[90m━━━━━━━━━━━━━━━━━━━━━━━━━━━━━━━━━━━━━━━\u001b[0m \u001b[32m317.3/317.3 MB\u001b[0m \u001b[31m4.5 MB/s\u001b[0m eta \u001b[36m0:00:00\u001b[0m\r\n",
      "\u001b[?25h  Preparing metadata (setup.py) ... \u001b[?25l-\b \b\\\b \bdone\r\n",
      "\u001b[?25hRequirement already satisfied: py4j==0.10.9.7 in /opt/conda/lib/python3.10/site-packages (from pyspark) (0.10.9.7)\r\n",
      "Building wheels for collected packages: pyspark\r\n",
      "  Building wheel for pyspark (setup.py) ... \u001b[?25l-\b \b\\\b \b|\b \bdone\r\n",
      "\u001b[?25h  Created wheel for pyspark: filename=pyspark-3.5.3-py2.py3-none-any.whl size=317840629 sha256=b3401a5c3c7516fecceaeadeef7b66935c5b1c9b68b1b2be06d911bfa1d00df7\r\n",
      "  Stored in directory: /root/.cache/pip/wheels/1b/3a/92/28b93e2fbfdbb07509ca4d6f50c5e407f48dce4ddbda69a4ab\r\n",
      "Successfully built pyspark\r\n",
      "Installing collected packages: pyspark\r\n",
      "Successfully installed pyspark-3.5.3\r\n"
     ]
    }
   ],
   "source": [
    "! pip install pyspark"
   ]
  },
  {
   "cell_type": "code",
   "execution_count": 2,
   "id": "00e1b225",
   "metadata": {
    "execution": {
     "iopub.execute_input": "2024-10-20T10:05:01.437013Z",
     "iopub.status.busy": "2024-10-20T10:05:01.436584Z",
     "iopub.status.idle": "2024-10-20T10:05:01.533982Z",
     "shell.execute_reply": "2024-10-20T10:05:01.532532Z"
    },
    "papermill": {
     "duration": 0.12086,
     "end_time": "2024-10-20T10:05:01.536792",
     "exception": false,
     "start_time": "2024-10-20T10:05:01.415932",
     "status": "completed"
    },
    "tags": []
   },
   "outputs": [],
   "source": [
    "from pyspark.sql import SparkSession\n",
    "from pyspark import SparkContext, SparkConf"
   ]
  },
  {
   "cell_type": "code",
   "execution_count": 3,
   "id": "529a6a94",
   "metadata": {
    "execution": {
     "iopub.execute_input": "2024-10-20T10:05:01.577703Z",
     "iopub.status.busy": "2024-10-20T10:05:01.577084Z",
     "iopub.status.idle": "2024-10-20T10:05:07.781649Z",
     "shell.execute_reply": "2024-10-20T10:05:07.780306Z"
    },
    "papermill": {
     "duration": 6.228819,
     "end_time": "2024-10-20T10:05:07.784344",
     "exception": false,
     "start_time": "2024-10-20T10:05:01.555525",
     "status": "completed"
    },
    "tags": []
   },
   "outputs": [
    {
     "name": "stderr",
     "output_type": "stream",
     "text": [
      "Setting default log level to \"WARN\".\n",
      "To adjust logging level use sc.setLogLevel(newLevel). For SparkR, use setLogLevel(newLevel).\n",
      "24/10/20 10:05:05 WARN NativeCodeLoader: Unable to load native-hadoop library for your platform... using builtin-java classes where applicable\n"
     ]
    }
   ],
   "source": [
    "spark = SparkSession.builder.appName('Pyspark.Sql').getOrCreate()"
   ]
  },
  {
   "cell_type": "code",
   "execution_count": 4,
   "id": "7e8b44a6",
   "metadata": {
    "execution": {
     "iopub.execute_input": "2024-10-20T10:05:07.824043Z",
     "iopub.status.busy": "2024-10-20T10:05:07.823609Z",
     "iopub.status.idle": "2024-10-20T10:05:09.208908Z",
     "shell.execute_reply": "2024-10-20T10:05:09.207732Z"
    },
    "papermill": {
     "duration": 1.409172,
     "end_time": "2024-10-20T10:05:09.212217",
     "exception": false,
     "start_time": "2024-10-20T10:05:07.803045",
     "status": "completed"
    },
    "tags": []
   },
   "outputs": [
    {
     "data": {
      "text/html": [
       "\n",
       "            <div>\n",
       "                <p><b>SparkSession - in-memory</b></p>\n",
       "                \n",
       "        <div>\n",
       "            <p><b>SparkContext</b></p>\n",
       "\n",
       "            <p><a href=\"http://012b7f7bd5e6:4040\">Spark UI</a></p>\n",
       "\n",
       "            <dl>\n",
       "              <dt>Version</dt>\n",
       "                <dd><code>v3.5.3</code></dd>\n",
       "              <dt>Master</dt>\n",
       "                <dd><code>local[*]</code></dd>\n",
       "              <dt>AppName</dt>\n",
       "                <dd><code>Pyspark.Sql</code></dd>\n",
       "            </dl>\n",
       "        </div>\n",
       "        \n",
       "            </div>\n",
       "        "
      ],
      "text/plain": [
       "<pyspark.sql.session.SparkSession at 0x7cef2b3af940>"
      ]
     },
     "execution_count": 4,
     "metadata": {},
     "output_type": "execute_result"
    }
   ],
   "source": [
    "spark"
   ]
  },
  {
   "cell_type": "code",
   "execution_count": 5,
   "id": "e8f3ed2d",
   "metadata": {
    "execution": {
     "iopub.execute_input": "2024-10-20T10:05:09.267087Z",
     "iopub.status.busy": "2024-10-20T10:05:09.266680Z",
     "iopub.status.idle": "2024-10-20T10:05:12.463497Z",
     "shell.execute_reply": "2024-10-20T10:05:12.462135Z"
    },
    "papermill": {
     "duration": 3.223852,
     "end_time": "2024-10-20T10:05:12.466399",
     "exception": false,
     "start_time": "2024-10-20T10:05:09.242547",
     "status": "completed"
    },
    "tags": []
   },
   "outputs": [],
   "source": [
    "data = [('Adam', 'Miller', 32), ('Mike', 'Johnson', 23), ('David', 'White', 34), ('David', 'Tyce', 32)]\n",
    "\n",
    "df = spark.createDataFrame(data, ['FirstName','LastName', 'Age'])\n",
    "\n",
    "df.createOrReplaceTempView('people')"
   ]
  },
  {
   "cell_type": "code",
   "execution_count": 6,
   "id": "b392cf44",
   "metadata": {
    "execution": {
     "iopub.execute_input": "2024-10-20T10:05:12.509226Z",
     "iopub.status.busy": "2024-10-20T10:05:12.507842Z",
     "iopub.status.idle": "2024-10-20T10:05:17.508339Z",
     "shell.execute_reply": "2024-10-20T10:05:17.506820Z"
    },
    "papermill": {
     "duration": 5.024404,
     "end_time": "2024-10-20T10:05:17.511303",
     "exception": false,
     "start_time": "2024-10-20T10:05:12.486899",
     "status": "completed"
    },
    "tags": []
   },
   "outputs": [
    {
     "name": "stderr",
     "output_type": "stream",
     "text": [
      "                                                                                \r"
     ]
    },
    {
     "name": "stdout",
     "output_type": "stream",
     "text": [
      "+---------+--------+---+\n",
      "|FirstName|LastName|Age|\n",
      "+---------+--------+---+\n",
      "|     Adam|  Miller| 32|\n",
      "|     Mike| Johnson| 23|\n",
      "|    David|   White| 34|\n",
      "|    David|    Tyce| 32|\n",
      "+---------+--------+---+\n",
      "\n"
     ]
    }
   ],
   "source": [
    "spark.sql('SELECT * FROM people').show()"
   ]
  },
  {
   "cell_type": "markdown",
   "id": "f8160046",
   "metadata": {
    "papermill": {
     "duration": 0.019183,
     "end_time": "2024-10-20T10:05:17.550820",
     "exception": false,
     "start_time": "2024-10-20T10:05:17.531637",
     "status": "completed"
    },
    "tags": []
   },
   "source": [
    "**AGE**"
   ]
  },
  {
   "cell_type": "code",
   "execution_count": 7,
   "id": "7fd4c024",
   "metadata": {
    "execution": {
     "iopub.execute_input": "2024-10-20T10:05:17.593336Z",
     "iopub.status.busy": "2024-10-20T10:05:17.592942Z",
     "iopub.status.idle": "2024-10-20T10:05:18.429415Z",
     "shell.execute_reply": "2024-10-20T10:05:18.427953Z"
    },
    "papermill": {
     "duration": 0.861614,
     "end_time": "2024-10-20T10:05:18.432808",
     "exception": false,
     "start_time": "2024-10-20T10:05:17.571194",
     "status": "completed"
    },
    "tags": []
   },
   "outputs": [
    {
     "name": "stdout",
     "output_type": "stream",
     "text": [
      "+---+\n",
      "|age|\n",
      "+---+\n",
      "| 32|\n",
      "| 23|\n",
      "| 34|\n",
      "| 32|\n",
      "+---+\n",
      "\n"
     ]
    }
   ],
   "source": [
    "spark.sql('SELECT age from people').show()"
   ]
  },
  {
   "cell_type": "markdown",
   "id": "8c37c24b",
   "metadata": {
    "papermill": {
     "duration": 0.031904,
     "end_time": "2024-10-20T10:05:18.496611",
     "exception": false,
     "start_time": "2024-10-20T10:05:18.464707",
     "status": "completed"
    },
    "tags": []
   },
   "source": [
    " **Frist Name**"
   ]
  },
  {
   "cell_type": "code",
   "execution_count": 8,
   "id": "c2b2d7b9",
   "metadata": {
    "execution": {
     "iopub.execute_input": "2024-10-20T10:05:18.562832Z",
     "iopub.status.busy": "2024-10-20T10:05:18.561352Z",
     "iopub.status.idle": "2024-10-20T10:05:19.268891Z",
     "shell.execute_reply": "2024-10-20T10:05:19.267701Z"
    },
    "papermill": {
     "duration": 0.74383,
     "end_time": "2024-10-20T10:05:19.272478",
     "exception": false,
     "start_time": "2024-10-20T10:05:18.528648",
     "status": "completed"
    },
    "tags": []
   },
   "outputs": [
    {
     "name": "stdout",
     "output_type": "stream",
     "text": [
      "+---------+\n",
      "|FirstName|\n",
      "+---------+\n",
      "|     Adam|\n",
      "|     Mike|\n",
      "|    David|\n",
      "|    David|\n",
      "+---------+\n",
      "\n"
     ]
    }
   ],
   "source": [
    "spark.sql('select FirstName from people').show()"
   ]
  },
  {
   "cell_type": "markdown",
   "id": "d9492c78",
   "metadata": {
    "papermill": {
     "duration": 0.02022,
     "end_time": "2024-10-20T10:05:19.321142",
     "exception": false,
     "start_time": "2024-10-20T10:05:19.300922",
     "status": "completed"
    },
    "tags": []
   },
   "source": [
    " **Last Name**"
   ]
  },
  {
   "cell_type": "code",
   "execution_count": 9,
   "id": "797ae486",
   "metadata": {
    "execution": {
     "iopub.execute_input": "2024-10-20T10:05:19.361505Z",
     "iopub.status.busy": "2024-10-20T10:05:19.361087Z",
     "iopub.status.idle": "2024-10-20T10:05:20.108295Z",
     "shell.execute_reply": "2024-10-20T10:05:20.107104Z"
    },
    "papermill": {
     "duration": 0.771048,
     "end_time": "2024-10-20T10:05:20.111540",
     "exception": false,
     "start_time": "2024-10-20T10:05:19.340492",
     "status": "completed"
    },
    "tags": []
   },
   "outputs": [
    {
     "name": "stdout",
     "output_type": "stream",
     "text": [
      "+--------+\n",
      "|LastName|\n",
      "+--------+\n",
      "|  Miller|\n",
      "| Johnson|\n",
      "|   White|\n",
      "|    Tyce|\n",
      "+--------+\n",
      "\n"
     ]
    }
   ],
   "source": [
    "spark.sql('select LastName from people').show()"
   ]
  },
  {
   "cell_type": "markdown",
   "id": "9a6d61a4",
   "metadata": {
    "papermill": {
     "duration": 0.031116,
     "end_time": "2024-10-20T10:05:20.172762",
     "exception": false,
     "start_time": "2024-10-20T10:05:20.141646",
     "status": "completed"
    },
    "tags": []
   },
   "source": [
    "**firstname where age is greater than 30**"
   ]
  },
  {
   "cell_type": "code",
   "execution_count": 10,
   "id": "0732db13",
   "metadata": {
    "execution": {
     "iopub.execute_input": "2024-10-20T10:05:20.238795Z",
     "iopub.status.busy": "2024-10-20T10:05:20.238227Z",
     "iopub.status.idle": "2024-10-20T10:05:21.076917Z",
     "shell.execute_reply": "2024-10-20T10:05:21.075001Z"
    },
    "papermill": {
     "duration": 0.874133,
     "end_time": "2024-10-20T10:05:21.080312",
     "exception": false,
     "start_time": "2024-10-20T10:05:20.206179",
     "status": "completed"
    },
    "tags": []
   },
   "outputs": [
    {
     "name": "stdout",
     "output_type": "stream",
     "text": [
      "+---------+\n",
      "|FirstName|\n",
      "+---------+\n",
      "|     Adam|\n",
      "|    David|\n",
      "|    David|\n",
      "+---------+\n",
      "\n"
     ]
    }
   ],
   "source": [
    "spark.sql('select FirstName from people where Age > 30' ).show()"
   ]
  },
  {
   "cell_type": "markdown",
   "id": "4617762b",
   "metadata": {
    "papermill": {
     "duration": 0.02045,
     "end_time": "2024-10-20T10:05:21.128752",
     "exception": false,
     "start_time": "2024-10-20T10:05:21.108302",
     "status": "completed"
    },
    "tags": []
   },
   "source": [
    "**LastName of people where Age is greater than 25**"
   ]
  },
  {
   "cell_type": "code",
   "execution_count": 11,
   "id": "580a13df",
   "metadata": {
    "execution": {
     "iopub.execute_input": "2024-10-20T10:05:21.169522Z",
     "iopub.status.busy": "2024-10-20T10:05:21.169097Z",
     "iopub.status.idle": "2024-10-20T10:05:21.845763Z",
     "shell.execute_reply": "2024-10-20T10:05:21.844618Z"
    },
    "papermill": {
     "duration": 0.70085,
     "end_time": "2024-10-20T10:05:21.849244",
     "exception": false,
     "start_time": "2024-10-20T10:05:21.148394",
     "status": "completed"
    },
    "tags": []
   },
   "outputs": [
    {
     "name": "stdout",
     "output_type": "stream",
     "text": [
      "+--------+\n",
      "|LastName|\n",
      "+--------+\n",
      "| Johnson|\n",
      "+--------+\n",
      "\n"
     ]
    }
   ],
   "source": [
    "spark.sql('Select LastName from people where age < 25').show()"
   ]
  },
  {
   "cell_type": "markdown",
   "id": "af297753",
   "metadata": {
    "papermill": {
     "duration": 0.025041,
     "end_time": "2024-10-20T10:05:21.904187",
     "exception": false,
     "start_time": "2024-10-20T10:05:21.879146",
     "status": "completed"
    },
    "tags": []
   },
   "source": [
    "**firstname where age is less than 30**"
   ]
  },
  {
   "cell_type": "code",
   "execution_count": 12,
   "id": "6982d32d",
   "metadata": {
    "execution": {
     "iopub.execute_input": "2024-10-20T10:05:21.946194Z",
     "iopub.status.busy": "2024-10-20T10:05:21.945675Z",
     "iopub.status.idle": "2024-10-20T10:05:22.637100Z",
     "shell.execute_reply": "2024-10-20T10:05:22.635960Z"
    },
    "papermill": {
     "duration": 0.716849,
     "end_time": "2024-10-20T10:05:22.640733",
     "exception": false,
     "start_time": "2024-10-20T10:05:21.923884",
     "status": "completed"
    },
    "tags": []
   },
   "outputs": [
    {
     "name": "stdout",
     "output_type": "stream",
     "text": [
      "+---------+\n",
      "|firstname|\n",
      "+---------+\n",
      "|     Mike|\n",
      "+---------+\n",
      "\n"
     ]
    }
   ],
   "source": [
    "spark.sql('select firstname from people where age < 30').show()"
   ]
  },
  {
   "cell_type": "markdown",
   "id": "ad771187",
   "metadata": {
    "papermill": {
     "duration": 0.02099,
     "end_time": "2024-10-20T10:05:22.695150",
     "exception": false,
     "start_time": "2024-10-20T10:05:22.674160",
     "status": "completed"
    },
    "tags": []
   },
   "source": [
    "**age where age is greater than 30**"
   ]
  },
  {
   "cell_type": "code",
   "execution_count": 13,
   "id": "792d0577",
   "metadata": {
    "execution": {
     "iopub.execute_input": "2024-10-20T10:05:22.736723Z",
     "iopub.status.busy": "2024-10-20T10:05:22.736272Z",
     "iopub.status.idle": "2024-10-20T10:05:23.433044Z",
     "shell.execute_reply": "2024-10-20T10:05:23.431759Z"
    },
    "papermill": {
     "duration": 0.721397,
     "end_time": "2024-10-20T10:05:23.436703",
     "exception": false,
     "start_time": "2024-10-20T10:05:22.715306",
     "status": "completed"
    },
    "tags": []
   },
   "outputs": [
    {
     "name": "stdout",
     "output_type": "stream",
     "text": [
      "+---+\n",
      "|age|\n",
      "+---+\n",
      "| 32|\n",
      "| 34|\n",
      "| 32|\n",
      "+---+\n",
      "\n"
     ]
    }
   ],
   "source": [
    "spark.sql('select age from people where age >30').show()"
   ]
  },
  {
   "cell_type": "markdown",
   "id": "83d360b1",
   "metadata": {
    "papermill": {
     "duration": 0.030947,
     "end_time": "2024-10-20T10:05:23.518028",
     "exception": false,
     "start_time": "2024-10-20T10:05:23.487081",
     "status": "completed"
    },
    "tags": []
   },
   "source": [
    "**firstname where firstname start with D**"
   ]
  },
  {
   "cell_type": "code",
   "execution_count": 14,
   "id": "4259e9be",
   "metadata": {
    "execution": {
     "iopub.execute_input": "2024-10-20T10:05:23.561020Z",
     "iopub.status.busy": "2024-10-20T10:05:23.560504Z",
     "iopub.status.idle": "2024-10-20T10:05:24.474888Z",
     "shell.execute_reply": "2024-10-20T10:05:24.473557Z"
    },
    "papermill": {
     "duration": 0.939736,
     "end_time": "2024-10-20T10:05:24.478422",
     "exception": false,
     "start_time": "2024-10-20T10:05:23.538686",
     "status": "completed"
    },
    "tags": []
   },
   "outputs": [
    {
     "name": "stdout",
     "output_type": "stream",
     "text": [
      "+---------+\n",
      "|firstname|\n",
      "+---------+\n",
      "|    David|\n",
      "|    David|\n",
      "+---------+\n",
      "\n"
     ]
    }
   ],
   "source": [
    "spark.sql(\"select firstname from people where FirstName like 'D%'\").show()"
   ]
  },
  {
   "cell_type": "markdown",
   "id": "7223054a",
   "metadata": {
    "papermill": {
     "duration": 0.031507,
     "end_time": "2024-10-20T10:05:24.544934",
     "exception": false,
     "start_time": "2024-10-20T10:05:24.513427",
     "status": "completed"
    },
    "tags": []
   },
   "source": [
    "**firstname where firstname or lastname start with D**"
   ]
  },
  {
   "cell_type": "code",
   "execution_count": 15,
   "id": "9b43dc8e",
   "metadata": {
    "execution": {
     "iopub.execute_input": "2024-10-20T10:05:24.608330Z",
     "iopub.status.busy": "2024-10-20T10:05:24.607830Z",
     "iopub.status.idle": "2024-10-20T10:05:25.283616Z",
     "shell.execute_reply": "2024-10-20T10:05:25.282363Z"
    },
    "papermill": {
     "duration": 0.711289,
     "end_time": "2024-10-20T10:05:25.286506",
     "exception": false,
     "start_time": "2024-10-20T10:05:24.575217",
     "status": "completed"
    },
    "tags": []
   },
   "outputs": [
    {
     "name": "stdout",
     "output_type": "stream",
     "text": [
      "+---------+\n",
      "|FirstName|\n",
      "+---------+\n",
      "|    David|\n",
      "|    David|\n",
      "+---------+\n",
      "\n"
     ]
    }
   ],
   "source": [
    "spark.sql(\"select FirstName from people where FirstName like 'D%' or LastName like 'D%'\").show()"
   ]
  },
  {
   "cell_type": "markdown",
   "id": "1e572a8e",
   "metadata": {
    "papermill": {
     "duration": 0.024735,
     "end_time": "2024-10-20T10:05:25.343658",
     "exception": false,
     "start_time": "2024-10-20T10:05:25.318923",
     "status": "completed"
    },
    "tags": []
   },
   "source": [
    "**firstname where lastname end with e**"
   ]
  },
  {
   "cell_type": "code",
   "execution_count": 16,
   "id": "21bde7b2",
   "metadata": {
    "execution": {
     "iopub.execute_input": "2024-10-20T10:05:25.386602Z",
     "iopub.status.busy": "2024-10-20T10:05:25.386054Z",
     "iopub.status.idle": "2024-10-20T10:05:25.990528Z",
     "shell.execute_reply": "2024-10-20T10:05:25.989277Z"
    },
    "papermill": {
     "duration": 0.631144,
     "end_time": "2024-10-20T10:05:25.994817",
     "exception": false,
     "start_time": "2024-10-20T10:05:25.363673",
     "status": "completed"
    },
    "tags": []
   },
   "outputs": [
    {
     "name": "stdout",
     "output_type": "stream",
     "text": [
      "+---------+\n",
      "|firstname|\n",
      "+---------+\n",
      "|    David|\n",
      "|    David|\n",
      "+---------+\n",
      "\n"
     ]
    }
   ],
   "source": [
    "spark.sql(\"select firstname from people where lastname like '%e'\").show()"
   ]
  },
  {
   "cell_type": "markdown",
   "id": "703f79da",
   "metadata": {
    "papermill": {
     "duration": 0.020427,
     "end_time": "2024-10-20T10:05:26.045691",
     "exception": false,
     "start_time": "2024-10-20T10:05:26.025264",
     "status": "completed"
    },
    "tags": []
   },
   "source": [
    "**sum of all the ages**"
   ]
  },
  {
   "cell_type": "code",
   "execution_count": 17,
   "id": "25dd0bcb",
   "metadata": {
    "execution": {
     "iopub.execute_input": "2024-10-20T10:05:26.090981Z",
     "iopub.status.busy": "2024-10-20T10:05:26.090569Z",
     "iopub.status.idle": "2024-10-20T10:05:27.143404Z",
     "shell.execute_reply": "2024-10-20T10:05:27.141621Z"
    },
    "papermill": {
     "duration": 1.079017,
     "end_time": "2024-10-20T10:05:27.146837",
     "exception": false,
     "start_time": "2024-10-20T10:05:26.067820",
     "status": "completed"
    },
    "tags": []
   },
   "outputs": [
    {
     "name": "stdout",
     "output_type": "stream",
     "text": [
      "+--------+\n",
      "|sum(age)|\n",
      "+--------+\n",
      "|     121|\n",
      "+--------+\n",
      "\n"
     ]
    }
   ],
   "source": [
    "spark.sql('select sum(age) from people').show()"
   ]
  },
  {
   "cell_type": "markdown",
   "id": "234159a1",
   "metadata": {
    "papermill": {
     "duration": 0.020645,
     "end_time": "2024-10-20T10:05:27.194121",
     "exception": false,
     "start_time": "2024-10-20T10:05:27.173476",
     "status": "completed"
    },
    "tags": []
   },
   "source": [
    "**find min age where firstname start with D**"
   ]
  },
  {
   "cell_type": "code",
   "execution_count": 18,
   "id": "08854f87",
   "metadata": {
    "execution": {
     "iopub.execute_input": "2024-10-20T10:05:27.239115Z",
     "iopub.status.busy": "2024-10-20T10:05:27.238596Z",
     "iopub.status.idle": "2024-10-20T10:05:27.937377Z",
     "shell.execute_reply": "2024-10-20T10:05:27.935557Z"
    },
    "papermill": {
     "duration": 0.72469,
     "end_time": "2024-10-20T10:05:27.941004",
     "exception": false,
     "start_time": "2024-10-20T10:05:27.216314",
     "status": "completed"
    },
    "tags": []
   },
   "outputs": [
    {
     "name": "stdout",
     "output_type": "stream",
     "text": [
      "+--------+\n",
      "|min(age)|\n",
      "+--------+\n",
      "|      32|\n",
      "+--------+\n",
      "\n"
     ]
    }
   ],
   "source": [
    "spark.sql(\"select min(age) from people where firstname like 'D%'\").show()"
   ]
  },
  {
   "cell_type": "markdown",
   "id": "9b268127",
   "metadata": {
    "papermill": {
     "duration": 0.022483,
     "end_time": "2024-10-20T10:05:27.986605",
     "exception": false,
     "start_time": "2024-10-20T10:05:27.964122",
     "status": "completed"
    },
    "tags": []
   },
   "source": [
    "**max age where lastname end with D**"
   ]
  },
  {
   "cell_type": "code",
   "execution_count": 19,
   "id": "4706a2a9",
   "metadata": {
    "execution": {
     "iopub.execute_input": "2024-10-20T10:05:28.032103Z",
     "iopub.status.busy": "2024-10-20T10:05:28.031623Z",
     "iopub.status.idle": "2024-10-20T10:05:28.650085Z",
     "shell.execute_reply": "2024-10-20T10:05:28.648950Z"
    },
    "papermill": {
     "duration": 0.645909,
     "end_time": "2024-10-20T10:05:28.654080",
     "exception": false,
     "start_time": "2024-10-20T10:05:28.008171",
     "status": "completed"
    },
    "tags": []
   },
   "outputs": [
    {
     "name": "stdout",
     "output_type": "stream",
     "text": [
      "+--------+\n",
      "|max(age)|\n",
      "+--------+\n",
      "|    NULL|\n",
      "+--------+\n",
      "\n"
     ]
    }
   ],
   "source": [
    "spark.sql(\"select max(age) from people where lastname like '%D'\").show()"
   ]
  },
  {
   "cell_type": "markdown",
   "id": "7ff0a6a8",
   "metadata": {
    "papermill": {
     "duration": 0.033485,
     "end_time": "2024-10-20T10:05:28.719620",
     "exception": false,
     "start_time": "2024-10-20T10:05:28.686135",
     "status": "completed"
    },
    "tags": []
   },
   "source": [
    "# **Linear Regression**"
   ]
  },
  {
   "cell_type": "code",
   "execution_count": 20,
   "id": "7ac9ecdc",
   "metadata": {
    "execution": {
     "iopub.execute_input": "2024-10-20T10:05:28.785966Z",
     "iopub.status.busy": "2024-10-20T10:05:28.785431Z",
     "iopub.status.idle": "2024-10-20T10:05:29.365766Z",
     "shell.execute_reply": "2024-10-20T10:05:29.364567Z"
    },
    "papermill": {
     "duration": 0.616666,
     "end_time": "2024-10-20T10:05:29.368598",
     "exception": false,
     "start_time": "2024-10-20T10:05:28.751932",
     "status": "completed"
    },
    "tags": []
   },
   "outputs": [],
   "source": [
    "from pyspark.ml.regression import LinearRegression \n",
    "from pyspark.ml.feature import VectorAssembler as va"
   ]
  },
  {
   "cell_type": "code",
   "execution_count": 21,
   "id": "c7cc3fb1",
   "metadata": {
    "execution": {
     "iopub.execute_input": "2024-10-20T10:05:29.412763Z",
     "iopub.status.busy": "2024-10-20T10:05:29.412119Z",
     "iopub.status.idle": "2024-10-20T10:05:30.587177Z",
     "shell.execute_reply": "2024-10-20T10:05:30.585987Z"
    },
    "papermill": {
     "duration": 1.200622,
     "end_time": "2024-10-20T10:05:30.591004",
     "exception": false,
     "start_time": "2024-10-20T10:05:29.390382",
     "status": "completed"
    },
    "tags": []
   },
   "outputs": [],
   "source": [
    "df = spark.read.csv(\"/kaggle/input/predict-salary-csv/Salary.csv\", header = True, inferSchema = True)\n",
    "df = df.toDF('Experience', 'Salary')\n"
   ]
  },
  {
   "cell_type": "code",
   "execution_count": 22,
   "id": "5094f525",
   "metadata": {
    "execution": {
     "iopub.execute_input": "2024-10-20T10:05:30.636961Z",
     "iopub.status.busy": "2024-10-20T10:05:30.636414Z",
     "iopub.status.idle": "2024-10-20T10:05:30.855836Z",
     "shell.execute_reply": "2024-10-20T10:05:30.854627Z"
    },
    "papermill": {
     "duration": 0.245914,
     "end_time": "2024-10-20T10:05:30.858932",
     "exception": false,
     "start_time": "2024-10-20T10:05:30.613018",
     "status": "completed"
    },
    "tags": []
   },
   "outputs": [
    {
     "name": "stdout",
     "output_type": "stream",
     "text": [
      "+----------+------+\n",
      "|Experience|Salary|\n",
      "+----------+------+\n",
      "|       1.1| 39343|\n",
      "|       1.3| 46205|\n",
      "|       1.5| 37731|\n",
      "|       2.0| 43525|\n",
      "|       2.2| 39891|\n",
      "|       2.9| 56642|\n",
      "|       3.0| 60150|\n",
      "|       3.2| 54445|\n",
      "|       3.2| 64445|\n",
      "|       3.7| 57189|\n",
      "|       3.9| 63218|\n",
      "|       4.0| 55794|\n",
      "|       4.0| 56957|\n",
      "|       4.1| 57081|\n",
      "|       4.5| 61111|\n",
      "|       4.9| 67938|\n",
      "|       5.1| 66029|\n",
      "|       5.3| 83088|\n",
      "|       5.9| 81363|\n",
      "|       6.0| 93940|\n",
      "+----------+------+\n",
      "only showing top 20 rows\n",
      "\n"
     ]
    }
   ],
   "source": [
    "df.show()"
   ]
  },
  {
   "cell_type": "code",
   "execution_count": 23,
   "id": "af47f7ca",
   "metadata": {
    "execution": {
     "iopub.execute_input": "2024-10-20T10:05:30.902762Z",
     "iopub.status.busy": "2024-10-20T10:05:30.902228Z",
     "iopub.status.idle": "2024-10-20T10:05:30.930914Z",
     "shell.execute_reply": "2024-10-20T10:05:30.929670Z"
    },
    "papermill": {
     "duration": 0.053843,
     "end_time": "2024-10-20T10:05:30.933723",
     "exception": false,
     "start_time": "2024-10-20T10:05:30.879880",
     "status": "completed"
    },
    "tags": []
   },
   "outputs": [],
   "source": [
    "vac_assembler = va(inputCols = ['Experience'], outputCol = 'Features')"
   ]
  },
  {
   "cell_type": "code",
   "execution_count": 24,
   "id": "bdeffbea",
   "metadata": {
    "execution": {
     "iopub.execute_input": "2024-10-20T10:05:30.980195Z",
     "iopub.status.busy": "2024-10-20T10:05:30.979767Z",
     "iopub.status.idle": "2024-10-20T10:05:30.988002Z",
     "shell.execute_reply": "2024-10-20T10:05:30.986629Z"
    },
    "papermill": {
     "duration": 0.036001,
     "end_time": "2024-10-20T10:05:30.990838",
     "exception": false,
     "start_time": "2024-10-20T10:05:30.954837",
     "status": "completed"
    },
    "tags": []
   },
   "outputs": [
    {
     "data": {
      "text/plain": [
       "VectorAssembler_81b80c21251e"
      ]
     },
     "execution_count": 24,
     "metadata": {},
     "output_type": "execute_result"
    }
   ],
   "source": [
    "vac_assembler"
   ]
  },
  {
   "cell_type": "code",
   "execution_count": 25,
   "id": "962c8c67",
   "metadata": {
    "execution": {
     "iopub.execute_input": "2024-10-20T10:05:31.098989Z",
     "iopub.status.busy": "2024-10-20T10:05:31.098571Z",
     "iopub.status.idle": "2024-10-20T10:05:31.237588Z",
     "shell.execute_reply": "2024-10-20T10:05:31.235436Z"
    },
    "papermill": {
     "duration": 0.227978,
     "end_time": "2024-10-20T10:05:31.240361",
     "exception": false,
     "start_time": "2024-10-20T10:05:31.012383",
     "status": "completed"
    },
    "tags": []
   },
   "outputs": [],
   "source": [
    "dataframe = vac_assembler.transform(df)"
   ]
  },
  {
   "cell_type": "code",
   "execution_count": 26,
   "id": "63f058ff",
   "metadata": {
    "execution": {
     "iopub.execute_input": "2024-10-20T10:05:31.287360Z",
     "iopub.status.busy": "2024-10-20T10:05:31.286424Z",
     "iopub.status.idle": "2024-10-20T10:05:32.219576Z",
     "shell.execute_reply": "2024-10-20T10:05:32.216259Z"
    },
    "papermill": {
     "duration": 0.959577,
     "end_time": "2024-10-20T10:05:32.223109",
     "exception": false,
     "start_time": "2024-10-20T10:05:31.263532",
     "status": "completed"
    },
    "tags": []
   },
   "outputs": [
    {
     "name": "stdout",
     "output_type": "stream",
     "text": [
      "+----------+------+--------+\n",
      "|Experience|Salary|Features|\n",
      "+----------+------+--------+\n",
      "|       1.1| 39343|   [1.1]|\n",
      "|       1.3| 46205|   [1.3]|\n",
      "|       1.5| 37731|   [1.5]|\n",
      "|       2.0| 43525|   [2.0]|\n",
      "|       2.2| 39891|   [2.2]|\n",
      "|       2.9| 56642|   [2.9]|\n",
      "|       3.0| 60150|   [3.0]|\n",
      "|       3.2| 54445|   [3.2]|\n",
      "|       3.2| 64445|   [3.2]|\n",
      "|       3.7| 57189|   [3.7]|\n",
      "|       3.9| 63218|   [3.9]|\n",
      "|       4.0| 55794|   [4.0]|\n",
      "|       4.0| 56957|   [4.0]|\n",
      "|       4.1| 57081|   [4.1]|\n",
      "|       4.5| 61111|   [4.5]|\n",
      "|       4.9| 67938|   [4.9]|\n",
      "|       5.1| 66029|   [5.1]|\n",
      "|       5.3| 83088|   [5.3]|\n",
      "|       5.9| 81363|   [5.9]|\n",
      "|       6.0| 93940|   [6.0]|\n",
      "+----------+------+--------+\n",
      "only showing top 20 rows\n",
      "\n"
     ]
    }
   ],
   "source": [
    "dataframe.show()"
   ]
  },
  {
   "cell_type": "code",
   "execution_count": 27,
   "id": "9bc0157c",
   "metadata": {
    "execution": {
     "iopub.execute_input": "2024-10-20T10:05:32.282941Z",
     "iopub.status.busy": "2024-10-20T10:05:32.282532Z",
     "iopub.status.idle": "2024-10-20T10:05:32.331970Z",
     "shell.execute_reply": "2024-10-20T10:05:32.330802Z"
    },
    "papermill": {
     "duration": 0.079604,
     "end_time": "2024-10-20T10:05:32.335670",
     "exception": false,
     "start_time": "2024-10-20T10:05:32.256066",
     "status": "completed"
    },
    "tags": []
   },
   "outputs": [],
   "source": [
    "lr = LinearRegression(featuresCol = 'Features', labelCol = 'Salary')"
   ]
  },
  {
   "cell_type": "code",
   "execution_count": 28,
   "id": "0eadbc72",
   "metadata": {
    "execution": {
     "iopub.execute_input": "2024-10-20T10:05:32.385569Z",
     "iopub.status.busy": "2024-10-20T10:05:32.385030Z",
     "iopub.status.idle": "2024-10-20T10:05:33.952501Z",
     "shell.execute_reply": "2024-10-20T10:05:33.951167Z"
    },
    "papermill": {
     "duration": 1.593163,
     "end_time": "2024-10-20T10:05:33.955388",
     "exception": false,
     "start_time": "2024-10-20T10:05:32.362225",
     "status": "completed"
    },
    "tags": []
   },
   "outputs": [
    {
     "name": "stderr",
     "output_type": "stream",
     "text": [
      "24/10/20 10:05:32 WARN Instrumentation: [1d198c16] regParam is zero, which might cause numerical instability and overfitting.\n",
      "24/10/20 10:05:33 WARN InstanceBuilder: Failed to load implementation from:dev.ludovic.netlib.blas.JNIBLAS\n",
      "24/10/20 10:05:33 WARN InstanceBuilder: Failed to load implementation from:dev.ludovic.netlib.lapack.JNILAPACK\n"
     ]
    }
   ],
   "source": [
    "lr_model = lr.fit(dataframe)"
   ]
  },
  {
   "cell_type": "code",
   "execution_count": 29,
   "id": "32ef23f9",
   "metadata": {
    "execution": {
     "iopub.execute_input": "2024-10-20T10:05:34.008278Z",
     "iopub.status.busy": "2024-10-20T10:05:34.007706Z",
     "iopub.status.idle": "2024-10-20T10:05:34.032284Z",
     "shell.execute_reply": "2024-10-20T10:05:34.030943Z"
    },
    "papermill": {
     "duration": 0.049472,
     "end_time": "2024-10-20T10:05:34.034902",
     "exception": false,
     "start_time": "2024-10-20T10:05:33.985430",
     "status": "completed"
    },
    "tags": []
   },
   "outputs": [
    {
     "name": "stdout",
     "output_type": "stream",
     "text": [
      "Coefficient [8731.941047062477]\n",
      "Intercept 28859.52619453159\n"
     ]
    }
   ],
   "source": [
    "print('Coefficient', lr_model.coefficients)\n",
    "print('Intercept', lr_model.intercept)"
   ]
  },
  {
   "cell_type": "markdown",
   "id": "3f033ba5",
   "metadata": {
    "papermill": {
     "duration": 0.025293,
     "end_time": "2024-10-20T10:05:34.092179",
     "exception": false,
     "start_time": "2024-10-20T10:05:34.066886",
     "status": "completed"
    },
    "tags": []
   },
   "source": [
    "# **Logistic Regression**"
   ]
  },
  {
   "cell_type": "code",
   "execution_count": 30,
   "id": "3903c33f",
   "metadata": {
    "execution": {
     "iopub.execute_input": "2024-10-20T10:05:34.141118Z",
     "iopub.status.busy": "2024-10-20T10:05:34.140667Z",
     "iopub.status.idle": "2024-10-20T10:05:34.146380Z",
     "shell.execute_reply": "2024-10-20T10:05:34.145139Z"
    },
    "papermill": {
     "duration": 0.033727,
     "end_time": "2024-10-20T10:05:34.149939",
     "exception": false,
     "start_time": "2024-10-20T10:05:34.116212",
     "status": "completed"
    },
    "tags": []
   },
   "outputs": [],
   "source": [
    "from pyspark.ml.classification import LogisticRegression"
   ]
  },
  {
   "cell_type": "code",
   "execution_count": 31,
   "id": "797700b8",
   "metadata": {
    "execution": {
     "iopub.execute_input": "2024-10-20T10:05:34.199762Z",
     "iopub.status.busy": "2024-10-20T10:05:34.199300Z",
     "iopub.status.idle": "2024-10-20T10:05:34.345980Z",
     "shell.execute_reply": "2024-10-20T10:05:34.343742Z"
    },
    "papermill": {
     "duration": 0.172935,
     "end_time": "2024-10-20T10:05:34.349565",
     "exception": false,
     "start_time": "2024-10-20T10:05:34.176630",
     "status": "completed"
    },
    "tags": []
   },
   "outputs": [
    {
     "name": "stdout",
     "output_type": "stream",
     "text": [
      "+----------+------+--------+\n",
      "|Experience|Salary|Features|\n",
      "+----------+------+--------+\n",
      "|       1.1| 39343|   [1.1]|\n",
      "|       1.3| 46205|   [1.3]|\n",
      "|       1.5| 37731|   [1.5]|\n",
      "|       2.0| 43525|   [2.0]|\n",
      "|       2.2| 39891|   [2.2]|\n",
      "|       2.9| 56642|   [2.9]|\n",
      "|       3.0| 60150|   [3.0]|\n",
      "|       3.2| 54445|   [3.2]|\n",
      "|       3.2| 64445|   [3.2]|\n",
      "|       3.7| 57189|   [3.7]|\n",
      "|       3.9| 63218|   [3.9]|\n",
      "|       4.0| 55794|   [4.0]|\n",
      "|       4.0| 56957|   [4.0]|\n",
      "|       4.1| 57081|   [4.1]|\n",
      "|       4.5| 61111|   [4.5]|\n",
      "|       4.9| 67938|   [4.9]|\n",
      "|       5.1| 66029|   [5.1]|\n",
      "|       5.3| 83088|   [5.3]|\n",
      "|       5.9| 81363|   [5.9]|\n",
      "|       6.0| 93940|   [6.0]|\n",
      "+----------+------+--------+\n",
      "only showing top 20 rows\n",
      "\n"
     ]
    }
   ],
   "source": [
    "dataframe.show()"
   ]
  },
  {
   "cell_type": "code",
   "execution_count": 32,
   "id": "6f717902",
   "metadata": {
    "execution": {
     "iopub.execute_input": "2024-10-20T10:05:34.400262Z",
     "iopub.status.busy": "2024-10-20T10:05:34.399695Z",
     "iopub.status.idle": "2024-10-20T10:05:34.439940Z",
     "shell.execute_reply": "2024-10-20T10:05:34.438393Z"
    },
    "papermill": {
     "duration": 0.065904,
     "end_time": "2024-10-20T10:05:34.442862",
     "exception": false,
     "start_time": "2024-10-20T10:05:34.376958",
     "status": "completed"
    },
    "tags": []
   },
   "outputs": [],
   "source": [
    "logistic_regression = LogisticRegression(featuresCol = 'Features', labelCol = 'Salary')"
   ]
  },
  {
   "cell_type": "code",
   "execution_count": 33,
   "id": "9c4c86a3",
   "metadata": {
    "execution": {
     "iopub.execute_input": "2024-10-20T10:05:34.488471Z",
     "iopub.status.busy": "2024-10-20T10:05:34.487928Z",
     "iopub.status.idle": "2024-10-20T10:06:17.141843Z",
     "shell.execute_reply": "2024-10-20T10:06:17.140398Z"
    },
    "papermill": {
     "duration": 42.68122,
     "end_time": "2024-10-20T10:06:17.145134",
     "exception": false,
     "start_time": "2024-10-20T10:05:34.463914",
     "status": "completed"
    },
    "tags": []
   },
   "outputs": [
    {
     "name": "stderr",
     "output_type": "stream",
     "text": [
      "                                                                                \r"
     ]
    }
   ],
   "source": [
    "logistic_model = logistic_regression.fit(dataframe)"
   ]
  },
  {
   "cell_type": "code",
   "execution_count": 34,
   "id": "bd2aad6d",
   "metadata": {
    "execution": {
     "iopub.execute_input": "2024-10-20T10:06:17.231104Z",
     "iopub.status.busy": "2024-10-20T10:06:17.230577Z",
     "iopub.status.idle": "2024-10-20T10:06:17.523587Z",
     "shell.execute_reply": "2024-10-20T10:06:17.522221Z"
    },
    "papermill": {
     "duration": 0.351206,
     "end_time": "2024-10-20T10:06:17.526283",
     "exception": false,
     "start_time": "2024-10-20T10:06:17.175077",
     "status": "completed"
    },
    "tags": []
   },
   "outputs": [
    {
     "name": "stdout",
     "output_type": "stream",
     "text": [
      "Intercepts:\n",
      "Min: <built-in method min of numpy.ndarray object at 0x7cef11e08a50>\n",
      "Max: <built-in method max of numpy.ndarray object at 0x7cef11e08a50>\n",
      "Mean: <built-in method mean of numpy.ndarray object at 0x7cef11e08a50>\n"
     ]
    }
   ],
   "source": [
    "intercepts = logistic_model.interceptVector\n",
    "print('Intercepts:')\n",
    "print('Min:', intercepts.min)\n",
    "print('Max:', intercepts.max)\n",
    "print('Mean:', intercepts.mean)\n"
   ]
  },
  {
   "cell_type": "code",
   "execution_count": 35,
   "id": "1c2a4db4",
   "metadata": {
    "execution": {
     "iopub.execute_input": "2024-10-20T10:06:17.572378Z",
     "iopub.status.busy": "2024-10-20T10:06:17.571215Z",
     "iopub.status.idle": "2024-10-20T10:06:18.196253Z",
     "shell.execute_reply": "2024-10-20T10:06:18.194981Z"
    },
    "papermill": {
     "duration": 0.65047,
     "end_time": "2024-10-20T10:06:18.198542",
     "exception": false,
     "start_time": "2024-10-20T10:06:17.548072",
     "status": "completed"
    },
    "tags": []
   },
   "outputs": [
    {
     "data": {
      "image/png": "[encoded data removed]",
      "text/plain": [
       "<Figure size 640x480 with 1 Axes>"
      ]
     },
     "metadata": {},
     "output_type": "display_data"
    }
   ],
   "source": [
    "import matplotlib.pyplot as plt\n",
    "\n",
    "intercepts = logistic_model.interceptVector\n",
    "plt.hist(intercepts.toArray(), bins=50)\n",
    "plt.xlabel('Intercept')\n",
    "plt.ylabel('Frequency')\n",
    "plt.title('Distribution of Intercepts')\n",
    "plt.show()"
   ]
  },
  {
   "cell_type": "markdown",
   "id": "497bdd2a",
   "metadata": {
    "papermill": {
     "duration": 0.022204,
     "end_time": "2024-10-20T10:06:18.243888",
     "exception": false,
     "start_time": "2024-10-20T10:06:18.221684",
     "status": "completed"
    },
    "tags": []
   },
   "source": [
    "# **K-mean Clustering**"
   ]
  },
  {
   "cell_type": "code",
   "execution_count": 36,
   "id": "84382112",
   "metadata": {
    "execution": {
     "iopub.execute_input": "2024-10-20T10:06:18.290817Z",
     "iopub.status.busy": "2024-10-20T10:06:18.290361Z",
     "iopub.status.idle": "2024-10-20T10:06:18.426895Z",
     "shell.execute_reply": "2024-10-20T10:06:18.425633Z"
    },
    "papermill": {
     "duration": 0.163401,
     "end_time": "2024-10-20T10:06:18.429649",
     "exception": false,
     "start_time": "2024-10-20T10:06:18.266248",
     "status": "completed"
    },
    "tags": []
   },
   "outputs": [
    {
     "name": "stdout",
     "output_type": "stream",
     "text": [
      "+----------+------+--------+\n",
      "|Experience|Salary|Features|\n",
      "+----------+------+--------+\n",
      "|       1.1| 39343|   [1.1]|\n",
      "|       1.3| 46205|   [1.3]|\n",
      "|       1.5| 37731|   [1.5]|\n",
      "|       2.0| 43525|   [2.0]|\n",
      "|       2.2| 39891|   [2.2]|\n",
      "|       2.9| 56642|   [2.9]|\n",
      "|       3.0| 60150|   [3.0]|\n",
      "|       3.2| 54445|   [3.2]|\n",
      "|       3.2| 64445|   [3.2]|\n",
      "|       3.7| 57189|   [3.7]|\n",
      "|       3.9| 63218|   [3.9]|\n",
      "|       4.0| 55794|   [4.0]|\n",
      "|       4.0| 56957|   [4.0]|\n",
      "|       4.1| 57081|   [4.1]|\n",
      "|       4.5| 61111|   [4.5]|\n",
      "|       4.9| 67938|   [4.9]|\n",
      "|       5.1| 66029|   [5.1]|\n",
      "|       5.3| 83088|   [5.3]|\n",
      "|       5.9| 81363|   [5.9]|\n",
      "|       6.0| 93940|   [6.0]|\n",
      "+----------+------+--------+\n",
      "only showing top 20 rows\n",
      "\n"
     ]
    }
   ],
   "source": [
    "dataframe.show()"
   ]
  },
  {
   "cell_type": "code",
   "execution_count": 37,
   "id": "8d0b90db",
   "metadata": {
    "execution": {
     "iopub.execute_input": "2024-10-20T10:06:18.480716Z",
     "iopub.status.busy": "2024-10-20T10:06:18.480147Z",
     "iopub.status.idle": "2024-10-20T10:06:18.486417Z",
     "shell.execute_reply": "2024-10-20T10:06:18.485127Z"
    },
    "papermill": {
     "duration": 0.034487,
     "end_time": "2024-10-20T10:06:18.489106",
     "exception": false,
     "start_time": "2024-10-20T10:06:18.454619",
     "status": "completed"
    },
    "tags": []
   },
   "outputs": [],
   "source": [
    "from pyspark.ml.clustering import KMeans"
   ]
  },
  {
   "cell_type": "code",
   "execution_count": 38,
   "id": "90e713dc",
   "metadata": {
    "execution": {
     "iopub.execute_input": "2024-10-20T10:06:18.547128Z",
     "iopub.status.busy": "2024-10-20T10:06:18.546586Z",
     "iopub.status.idle": "2024-10-20T10:06:18.566831Z",
     "shell.execute_reply": "2024-10-20T10:06:18.565539Z"
    },
    "papermill": {
     "duration": 0.058018,
     "end_time": "2024-10-20T10:06:18.570284",
     "exception": false,
     "start_time": "2024-10-20T10:06:18.512266",
     "status": "completed"
    },
    "tags": []
   },
   "outputs": [],
   "source": [
    "kmeans = KMeans().setK(2).setSeed(1)"
   ]
  },
  {
   "cell_type": "code",
   "execution_count": 39,
   "id": "d94b0240",
   "metadata": {
    "execution": {
     "iopub.execute_input": "2024-10-20T10:06:18.620671Z",
     "iopub.status.busy": "2024-10-20T10:06:18.620198Z",
     "iopub.status.idle": "2024-10-20T10:06:18.631805Z",
     "shell.execute_reply": "2024-10-20T10:06:18.630505Z"
    },
    "papermill": {
     "duration": 0.037772,
     "end_time": "2024-10-20T10:06:18.634535",
     "exception": false,
     "start_time": "2024-10-20T10:06:18.596763",
     "status": "completed"
    },
    "tags": []
   },
   "outputs": [],
   "source": [
    "dataframe = dataframe.withColumnRenamed('Features', 'features')"
   ]
  },
  {
   "cell_type": "code",
   "execution_count": 40,
   "id": "5c603b5e",
   "metadata": {
    "execution": {
     "iopub.execute_input": "2024-10-20T10:06:18.682322Z",
     "iopub.status.busy": "2024-10-20T10:06:18.681898Z",
     "iopub.status.idle": "2024-10-20T10:06:18.804825Z",
     "shell.execute_reply": "2024-10-20T10:06:18.803436Z"
    },
    "papermill": {
     "duration": 0.149687,
     "end_time": "2024-10-20T10:06:18.808294",
     "exception": false,
     "start_time": "2024-10-20T10:06:18.658607",
     "status": "completed"
    },
    "tags": []
   },
   "outputs": [
    {
     "name": "stdout",
     "output_type": "stream",
     "text": [
      "+----------+------+--------+\n",
      "|Experience|Salary|features|\n",
      "+----------+------+--------+\n",
      "|       1.1| 39343|   [1.1]|\n",
      "|       1.3| 46205|   [1.3]|\n",
      "|       1.5| 37731|   [1.5]|\n",
      "|       2.0| 43525|   [2.0]|\n",
      "|       2.2| 39891|   [2.2]|\n",
      "|       2.9| 56642|   [2.9]|\n",
      "|       3.0| 60150|   [3.0]|\n",
      "|       3.2| 54445|   [3.2]|\n",
      "|       3.2| 64445|   [3.2]|\n",
      "|       3.7| 57189|   [3.7]|\n",
      "|       3.9| 63218|   [3.9]|\n",
      "|       4.0| 55794|   [4.0]|\n",
      "|       4.0| 56957|   [4.0]|\n",
      "|       4.1| 57081|   [4.1]|\n",
      "|       4.5| 61111|   [4.5]|\n",
      "|       4.9| 67938|   [4.9]|\n",
      "|       5.1| 66029|   [5.1]|\n",
      "|       5.3| 83088|   [5.3]|\n",
      "|       5.9| 81363|   [5.9]|\n",
      "|       6.0| 93940|   [6.0]|\n",
      "+----------+------+--------+\n",
      "only showing top 20 rows\n",
      "\n"
     ]
    }
   ],
   "source": [
    "dataframe.show()"
   ]
  },
  {
   "cell_type": "code",
   "execution_count": 41,
   "id": "0fd93c33",
   "metadata": {
    "execution": {
     "iopub.execute_input": "2024-10-20T10:06:18.873372Z",
     "iopub.status.busy": "2024-10-20T10:06:18.872943Z",
     "iopub.status.idle": "2024-10-20T10:06:21.381164Z",
     "shell.execute_reply": "2024-10-20T10:06:21.379946Z"
    },
    "papermill": {
     "duration": 2.540743,
     "end_time": "2024-10-20T10:06:21.383902",
     "exception": false,
     "start_time": "2024-10-20T10:06:18.843159",
     "status": "completed"
    },
    "tags": []
   },
   "outputs": [],
   "source": [
    "kmeans_model = kmeans.fit(dataframe)"
   ]
  },
  {
   "cell_type": "code",
   "execution_count": 42,
   "id": "f0c7bac1",
   "metadata": {
    "execution": {
     "iopub.execute_input": "2024-10-20T10:06:21.431974Z",
     "iopub.status.busy": "2024-10-20T10:06:21.430402Z",
     "iopub.status.idle": "2024-10-20T10:06:21.444702Z",
     "shell.execute_reply": "2024-10-20T10:06:21.443668Z"
    },
    "papermill": {
     "duration": 0.04333,
     "end_time": "2024-10-20T10:06:21.449510",
     "exception": false,
     "start_time": "2024-10-20T10:06:21.406180",
     "status": "completed"
    },
    "tags": []
   },
   "outputs": [],
   "source": [
    "centers = kmeans_model.clusterCenters()"
   ]
  },
  {
   "cell_type": "code",
   "execution_count": 43,
   "id": "36e43a03",
   "metadata": {
    "execution": {
     "iopub.execute_input": "2024-10-20T10:06:21.496819Z",
     "iopub.status.busy": "2024-10-20T10:06:21.496373Z",
     "iopub.status.idle": "2024-10-20T10:06:21.503055Z",
     "shell.execute_reply": "2024-10-20T10:06:21.501860Z"
    },
    "papermill": {
     "duration": 0.03403,
     "end_time": "2024-10-20T10:06:21.505864",
     "exception": false,
     "start_time": "2024-10-20T10:06:21.471834",
     "status": "completed"
    },
    "tags": []
   },
   "outputs": [
    {
     "name": "stdout",
     "output_type": "stream",
     "text": [
      "Cluster Centers:  [array([3.89545455]), array([10.39230769])]\n"
     ]
    }
   ],
   "source": [
    "print('Cluster Centers: ', centers)"
   ]
  },
  {
   "cell_type": "code",
   "execution_count": 44,
   "id": "6be7aa77",
   "metadata": {
    "execution": {
     "iopub.execute_input": "2024-10-20T10:06:21.553001Z",
     "iopub.status.busy": "2024-10-20T10:06:21.552594Z",
     "iopub.status.idle": "2024-10-20T10:06:21.984588Z",
     "shell.execute_reply": "2024-10-20T10:06:21.983252Z"
    },
    "papermill": {
     "duration": 0.458465,
     "end_time": "2024-10-20T10:06:21.987210",
     "exception": false,
     "start_time": "2024-10-20T10:06:21.528745",
     "status": "completed"
    },
    "tags": []
   },
   "outputs": [
    {
     "data": {
      "image/png": "[encoded data removed]",
      "text/plain": [
       "<Figure size 640x480 with 1 Axes>"
      ]
     },
     "metadata": {},
     "output_type": "display_data"
    }
   ],
   "source": [
    "plt.hist(centers, bins = 32)\n",
    "plt.xlabel('centers')\n",
    "plt.ylabel('frequency')\n",
    "plt.title('The Frequency of Centers')\n",
    "plt.show()"
   ]
  },
  {
   "cell_type": "code",
   "execution_count": null,
   "id": "492e99f6",
   "metadata": {
    "papermill": {
     "duration": 0.02229,
     "end_time": "2024-10-20T10:06:22.032012",
     "exception": false,
     "start_time": "2024-10-20T10:06:22.009722",
     "status": "completed"
    },
    "tags": []
   },
   "outputs": [],
   "source": []
  }
 ],
 "metadata": {
  "kaggle": {
   "accelerator": "none",
   "dataSources": [
    {
     "datasetId": 5587057,
     "sourceId": 9236794,
     "sourceType": "datasetVersion"
    }
   ],
   "dockerImageVersionId": 30761,
   "isGpuEnabled": false,
   "isInternetEnabled": true,
   "language": "python",
   "sourceType": "notebook"
  },
  "kernelspec": {
   "display_name": "Python 3",
   "language": "python",
   "name": "python3"
  },
  "language_info": {
   "codemirror_mode": {
    "name": "ipython",
    "version": 3
   },
   "file_extension": ".py",
   "mimetype": "text/x-python",
   "name": "python",
   "nbconvert_exporter": "python",
   "pygments_lexer": "ipython3",
   "version": "3.10.14"
  },
  "papermill": {
   "default_parameters": {},
   "duration": 139.730686,
   "end_time": "2024-10-20T10:06:24.677022",
   "environment_variables": {},
   "exception": null,
   "input_path": "__notebook__.ipynb",
   "output_path": "__notebook__.ipynb",
   "parameters": {},
   "start_time": "2024-10-20T10:04:04.946336",
   "version": "2.6.0"
  }
 },
 "nbformat": 4,
 "nbformat_minor": 5
}
